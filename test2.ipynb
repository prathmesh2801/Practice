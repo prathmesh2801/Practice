{
 "cells": [
  {
   "cell_type": "code",
   "execution_count": 1,
   "metadata": {},
   "outputs": [
    {
     "name": "stdout",
     "output_type": "stream",
     "text": [
      "welcome to my branch\n"
     ]
    }
   ],
   "source": [
    "print(\"welcome to my branch\")"
   ]
  }
 ],
 "metadata": {
  "kernelspec": {
   "display_name": "base",
   "language": "python",
   "name": "python3"
  },
  "language_info": {
   "name": "python",
   "version": "3.9.13 (main, Aug 25 2022, 23:51:50) [MSC v.1916 64 bit (AMD64)]"
  },
  "orig_nbformat": 4,
  "vscode": {
   "interpreter": {
    "hash": "455151d41a72af48e44cad92ca44885dcb9785afb741244b18831bcd09c57363"
   }
  }
 },
 "nbformat": 4,
 "nbformat_minor": 2
}
